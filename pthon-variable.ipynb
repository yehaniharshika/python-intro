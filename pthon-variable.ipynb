{
 "cells": [
  {
   "cell_type": "code",
   "execution_count": 1,
   "metadata": {},
   "outputs": [
    {
     "name": "stdout",
     "output_type": "stream",
     "text": [
      "5\n",
      "yehani\n"
     ]
    }
   ],
   "source": [
    "x=5\n",
    "y=\"yehani\"\n",
    "\n",
    "print(x)\n",
    "print(y)"
   ]
  },
  {
   "cell_type": "code",
   "execution_count": 2,
   "metadata": {},
   "outputs": [
    {
     "name": "stdout",
     "output_type": "stream",
     "text": [
      "200\n",
      "Data type:  <class 'int'>\n"
     ]
    }
   ],
   "source": [
    "a=200\n",
    "print(a)\n",
    "print(\"Data type: \",type(a))"
   ]
  },
  {
   "cell_type": "code",
   "execution_count": 3,
   "metadata": {},
   "outputs": [
    {
     "name": "stdout",
     "output_type": "stream",
     "text": [
      "25000.0\n",
      "Data type:  <class 'float'>\n"
     ]
    }
   ],
   "source": [
    "#2.5* 10^4\n",
    "num_1 = 2.5e4\n",
    "print(num_1,)\n",
    "print(\"Data type: \",type(num_1))"
   ]
  },
  {
   "cell_type": "code",
   "execution_count": 4,
   "metadata": {},
   "outputs": [
    {
     "name": "stdout",
     "output_type": "stream",
     "text": [
      "-6760.0  Data type:  <class 'float'>\n"
     ]
    }
   ],
   "source": [
    "num_2 = -67.6e2\n",
    "print(num_2,\" Data type: \",type(num_2))"
   ]
  }
 ],
 "metadata": {
  "kernelspec": {
   "display_name": "Python 3",
   "language": "python",
   "name": "python3"
  },
  "language_info": {
   "codemirror_mode": {
    "name": "ipython",
    "version": 3
   },
   "file_extension": ".py",
   "mimetype": "text/x-python",
   "name": "python",
   "nbconvert_exporter": "python",
   "pygments_lexer": "ipython3",
   "version": "3.13.0"
  }
 },
 "nbformat": 4,
 "nbformat_minor": 2
}
